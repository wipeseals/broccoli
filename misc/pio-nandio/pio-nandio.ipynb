{
 "cells": [
  {
   "cell_type": "code",
   "execution_count": 3,
   "metadata": {},
   "outputs": [],
   "source": [
    "# 初回だけ実行\n",
    "# %pip install rp2040-pio-emulator@git+https://github.com/NathanY3G/rp2040-pio-emulator\n",
    "# %pip install adafruit-circuitpython-pioasm"
   ]
  },
  {
   "cell_type": "code",
   "execution_count": 2,
   "metadata": {},
   "outputs": [
    {
     "name": "stdout",
     "output_type": "stream",
     "text": [
      "[1] X register: 0 -> 9\n",
      "[2] X register: 9 -> 8\n",
      "[3] X register: 8 -> 7\n",
      "[4] X register: 7 -> 6\n",
      "[5] X register: 6 -> 5\n",
      "[6] X register: 5 -> 4\n",
      "[7] X register: 4 -> 3\n",
      "[8] X register: 3 -> 2\n",
      "[9] X register: 2 -> 1\n",
      "[10] X register: 1 -> 0\n",
      "[11] X register: 0 -> -1\n"
     ]
    }
   ],
   "source": [
    "from adafruit_pioasm import assemble\n",
    "from pioemu import emulate\n",
    "\n",
    "program = \"\"\"\n",
    ".program quickstart_example\n",
    "    set x 9\n",
    "loop:\n",
    "    jmp x-- loop\n",
    "    wait 1 gpio 0\n",
    "\"\"\"\n",
    "\n",
    "\n",
    "generator = emulate(assemble(program), stop_when=lambda _, state: state.x_register < 0)\n",
    "\n",
    "for before, after in generator:\n",
    "  print(f\"[{after.clock}] X register: {before.x_register} -> {after.x_register}\")"
   ]
  }
 ],
 "metadata": {
  "kernelspec": {
   "display_name": ".venv",
   "language": "python",
   "name": "python3"
  },
  "language_info": {
   "codemirror_mode": {
    "name": "ipython",
    "version": 3
   },
   "file_extension": ".py",
   "mimetype": "text/x-python",
   "name": "python",
   "nbconvert_exporter": "python",
   "pygments_lexer": "ipython3",
   "version": "3.12.2"
  }
 },
 "nbformat": 4,
 "nbformat_minor": 2
}
